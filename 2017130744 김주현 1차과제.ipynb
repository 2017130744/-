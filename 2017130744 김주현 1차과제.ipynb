{
 "cells": [
  {
   "cell_type": "code",
   "execution_count": 1,
   "id": "average-wrist",
   "metadata": {},
   "outputs": [],
   "source": [
    "import re\n",
    "#1번\n",
    "\n",
    "f = open('Q1.txt').read()\n",
    "s = re.findall('JULIET.\\n.+\\n?.+\\n?.+\\n?.+\\n?.+\\n?.+\\n?.+\\n?.+\\n?.+\\n?.+\\n?.+\\n?.+\\n?.+\\n?',f)\n",
    "a = ''\n",
    "for i in s:\n",
    "    b= i.replace('JULIET.\\n','')\n",
    "    a+=b\n",
    "\n",
    "ff = open('Q1_out.txt','w')\n",
    "ff.write(a)\n",
    "ff.close()"
   ]
  },
  {
   "cell_type": "code",
   "execution_count": 2,
   "id": "horizontal-bruce",
   "metadata": {},
   "outputs": [
    {
     "name": "stdout",
     "output_type": "stream",
     "text": [
      "대문자개수: 763\n",
      "소문자개수: 14777\n",
      "문장부호개수: 943\n"
     ]
    }
   ],
   "source": [
    "#2번\n",
    "\n",
    "f = open('Q2.txt').read()\n",
    "a=''\n",
    "b=''\n",
    "c=''\n",
    "for i in f:\n",
    "    if i.isupper():\n",
    "        a+=i\n",
    "    elif i.islower():\n",
    "        b+=i\n",
    "    elif re.match('\\W',i) and re.match('\\S',i):\n",
    "        c+=i\n",
    "print('대문자개수: '+ str(len(a)))\n",
    "print('소문자개수: '+ str(len(b)))\n",
    "print('문장부호개수: '+ str(len(c)))\n"
   ]
  },
  {
   "cell_type": "code",
   "execution_count": 5,
   "id": "fatty-external",
   "metadata": {},
   "outputs": [],
   "source": [
    "#3번\n",
    "\n",
    "f = open('Q2.txt').read()\n",
    "a = f.splitlines()\n",
    "b = '\\n'.join(a).split(' ')\n",
    "c=''\n",
    "\n",
    "for i in b:\n",
    "    if  re.search('\\W',i) and not re.search('\\w\\W\\w',i):\n",
    "        s = list(i)\n",
    "        l = ''\n",
    "        for j in s:\n",
    "            if re.match('\\w',j) or re.match('\\s',j):\n",
    "                    l+=j\n",
    "            \n",
    "        c += l+' ' \n",
    "    else:  c += i+' ' \n",
    "\n",
    "d = re.sub('\\W\\n','\\n', c)\n",
    "\n",
    "f2 = open('Q3_out.txt','w')\n",
    "f2.write(d)\n",
    "f2.close()"
   ]
  },
  {
   "cell_type": "code",
   "execution_count": 6,
   "id": "decent-maker",
   "metadata": {},
   "outputs": [],
   "source": [
    "#4번\n",
    "\n",
    "f = open('Q4.txt').read()\n",
    "s = ''\n",
    "a = re.findall('\\w+ing',f)\n",
    "b=''\n",
    "for i in a:\n",
    "    b+=i[:len(i)-3]+' '\n",
    "c = b.split()\n",
    "d=''\n",
    "for i in range(0,len(c)):\n",
    "    d+=a[i] + '\\t'+ c[i] + '\\n'\n",
    "\n",
    "f2 = open('Q4_out.txt','w')\n",
    "f2.write(d)\n",
    "f2.close()\n",
    "\n"
   ]
  },
  {
   "cell_type": "code",
   "execution_count": null,
   "id": "frozen-usage",
   "metadata": {},
   "outputs": [],
   "source": []
  }
 ],
 "metadata": {
  "kernelspec": {
   "display_name": "Python 3",
   "language": "python",
   "name": "python3"
  },
  "language_info": {
   "codemirror_mode": {
    "name": "ipython",
    "version": 3
   },
   "file_extension": ".py",
   "mimetype": "text/x-python",
   "name": "python",
   "nbconvert_exporter": "python",
   "pygments_lexer": "ipython3",
   "version": "3.9.2"
  }
 },
 "nbformat": 4,
 "nbformat_minor": 5
}
