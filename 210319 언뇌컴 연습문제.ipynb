{
 "cells": [
  {
   "cell_type": "code",
   "execution_count": 2,
   "id": "connected-triple",
   "metadata": {},
   "outputs": [
    {
     "name": "stdout",
     "output_type": "stream",
     "text": [
      "2 2\n",
      "4 6\n",
      "6 12\n",
      "8 20\n",
      "10 30\n",
      "12 42\n",
      "14 56\n",
      "16 72\n",
      "18 90\n",
      "20 110\n",
      "22 132\n",
      "24 156\n",
      "26 182\n",
      "28 210\n",
      "30 240\n",
      "32 272\n",
      "34 306\n",
      "36 342\n",
      "38 380\n",
      "40 420\n",
      "42 462\n",
      "44 506\n",
      "46 552\n",
      "48 600\n",
      "50 650\n",
      "52 702\n",
      "54 756\n",
      "56 812\n",
      "58 870\n",
      "60 930\n",
      "62 992\n",
      "64 1056\n",
      "66 1122\n",
      "68 1190\n",
      "70 1260\n",
      "72 1332\n",
      "74 1406\n",
      "76 1482\n",
      "78 1560\n",
      "80 1640\n",
      "82 1722\n",
      "84 1806\n",
      "86 1892\n",
      "88 1980\n",
      "90 2070\n",
      "92 2162\n",
      "94 2256\n",
      "96 2352\n",
      "98 2450\n",
      "100 2550\n"
     ]
    }
   ],
   "source": [
    "##연습문제1\n",
    "a = 0\n",
    "for i in range(1,101):\n",
    "    if i%2 == 1: continue\n",
    "    if i%2 == 0:\n",
    "        a = a+i\n",
    "        print(i,a)"
   ]
  },
  {
   "cell_type": "code",
   "execution_count": null,
   "id": "general-haiti",
   "metadata": {},
   "outputs": [],
   "source": []
  },
  {
   "cell_type": "code",
   "execution_count": 11,
   "id": "optional-group",
   "metadata": {},
   "outputs": [
    {
     "name": "stdout",
     "output_type": "stream",
     "text": [
      "1 1\n",
      "2 3\n",
      "3 6\n",
      "4 10\n",
      "5 15\n",
      "6 21\n",
      "7 28\n",
      "8 36\n",
      "9 45\n",
      "10 55\n",
      "11 66\n",
      "12 78\n",
      "13 91\n",
      "14 105\n",
      "15 120\n",
      "16 136\n",
      "17 153\n",
      "18 171\n",
      "19 190\n",
      "20 210\n",
      "21 231\n",
      "22 253\n",
      "23 276\n",
      "24 300\n",
      "25 325\n",
      "26 351\n",
      "27 378\n",
      "28 406\n",
      "29 435\n",
      "30 465\n",
      "31 496\n",
      "32 528\n",
      "33 561\n",
      "34 595\n",
      "35 630\n",
      "36 666\n",
      "37 703\n",
      "38 741\n",
      "39 780\n",
      "40 820\n",
      "41 861\n",
      "42 903\n",
      "43 946\n",
      "44 990\n",
      "45 1035\n",
      "46 1081\n",
      "47 1128\n",
      "48 1176\n",
      "49 1225\n",
      "50 1275\n",
      "51 1326\n",
      "52 1378\n",
      "53 1431\n",
      "54 1485\n",
      "55 1540\n",
      "56 1596\n",
      "57 1653\n",
      "58 1711\n",
      "59 1770\n",
      "60 1830\n",
      "61 1891\n",
      "62 1953\n",
      "63 2016\n",
      "64 2080\n",
      "65 2145\n",
      "66 2211\n",
      "67 2278\n",
      "68 2346\n",
      "69 2415\n",
      "70 2485\n",
      "71 2556\n",
      "72 2628\n",
      "73 2701\n",
      "74 2775\n",
      "75 2850\n",
      "76 2926\n",
      "77 3003\n",
      "78 3081\n",
      "79 3160\n",
      "80 3240\n",
      "81 3321\n",
      "82 3403\n",
      "83 3486\n",
      "84 3570\n",
      "85 3655\n",
      "86 3741\n",
      "87 3828\n",
      "88 3916\n",
      "89 4005\n",
      "90 4095\n",
      "91 4186\n",
      "92 4278\n",
      "93 4371\n",
      "94 4465\n",
      "95 4560\n",
      "96 4656\n",
      "97 4753\n",
      "98 4851\n",
      "99 4950\n",
      "100 5050\n"
     ]
    }
   ],
   "source": [
    "##연습문제1\n",
    "i = 0\n",
    "a = 0\n",
    "while i<100:\n",
    "    i += 1\n",
    "    a = a+i\n",
    "    print (i,a)"
   ]
  },
  {
   "cell_type": "code",
   "execution_count": 12,
   "id": "ranking-clearance",
   "metadata": {},
   "outputs": [
    {
     "name": "stdout",
     "output_type": "stream",
     "text": [
      "elephant\n",
      "tiger\n"
     ]
    }
   ],
   "source": [
    "##연습문제2\n",
    "a = ['cat', 'elephant', 'tiger']\n",
    "for i in range(len(a)):\n",
    "    if len(a[i])>3:\n",
    "        print (a[i])"
   ]
  },
  {
   "cell_type": "code",
   "execution_count": 1,
   "id": "welsh-destruction",
   "metadata": {},
   "outputs": [
    {
     "name": "stdout",
     "output_type": "stream",
     "text": [
      "1 1\n",
      "2 3\n",
      "3 6\n",
      "4 10\n",
      "5 15\n",
      "6 21\n",
      "7 28\n",
      "8 36\n",
      "9 45\n",
      "10 55\n",
      "21 76\n",
      "22 98\n",
      "23 121\n",
      "24 145\n",
      "25 170\n",
      "26 196\n",
      "27 223\n",
      "28 251\n",
      "29 280\n",
      "30 310\n"
     ]
    }
   ],
   "source": [
    "##연습문제3\n",
    "a = 0\n",
    "for i in range(1,31):\n",
    "    if 11<=i<=20: continue\n",
    "    else:\n",
    "        a = a+i\n",
    "        print (i,a)"
   ]
  },
  {
   "cell_type": "code",
   "execution_count": 5,
   "id": "skilled-corrections",
   "metadata": {},
   "outputs": [
    {
     "name": "stdout",
     "output_type": "stream",
     "text": [
      "1 1\n",
      "2 3\n",
      "3 6\n",
      "4 10\n",
      "5 15\n",
      "6 21\n",
      "7 28\n",
      "8 36\n",
      "9 45\n",
      "10 55\n",
      "21 76\n",
      "22 98\n",
      "23 121\n",
      "24 145\n",
      "25 170\n",
      "26 196\n",
      "27 223\n",
      "28 251\n",
      "29 280\n",
      "30 310\n"
     ]
    }
   ],
   "source": [
    "##연습문제3\n",
    "a = 0\n",
    "i = 0\n",
    "while i<30:\n",
    "    if 10<=i<20: \n",
    "        i+=1\n",
    "    else:\n",
    "        i +=1\n",
    "        a = a+i\n",
    "        print(i,a)\n"
   ]
  },
  {
   "cell_type": "code",
   "execution_count": 9,
   "id": "demonstrated-article",
   "metadata": {},
   "outputs": [
    {
     "name": "stdout",
     "output_type": "stream",
     "text": [
      "total = 55\n"
     ]
    }
   ],
   "source": [
    "##연습문제4\n",
    "x = [1,2,3,4,5,6,7,8,9,10]\n",
    "total=0\n",
    "for i in x:\n",
    "    total = total+i\n",
    "print('total =', total)"
   ]
  },
  {
   "cell_type": "code",
   "execution_count": 10,
   "id": "invalid-pressure",
   "metadata": {},
   "outputs": [
    {
     "name": "stdout",
     "output_type": "stream",
     "text": [
      "mean = 5.5\n"
     ]
    }
   ],
   "source": [
    "##연습문제4\n",
    "x = [1,2,3,4,5,6,7,8,9,10]\n",
    "total=0\n",
    "for i in x:\n",
    "    total = total+i\n",
    "    \n",
    "mean = total/len(x)\n",
    "print('mean =', mean)"
   ]
  },
  {
   "cell_type": "code",
   "execution_count": 11,
   "id": "american-separation",
   "metadata": {},
   "outputs": [
    {
     "name": "stdout",
     "output_type": "stream",
     "text": [
      "4\n",
      "5\n",
      "6\n"
     ]
    }
   ],
   "source": [
    "##연습문제4\n",
    "x = [1,2,3,4,5,6,7,8,9,10]\n",
    "for i in x:\n",
    "    if 4<=i<7:\n",
    "        print(i)\n",
    "    else: continue"
   ]
  },
  {
   "cell_type": "code",
   "execution_count": 12,
   "id": "electronic-catch",
   "metadata": {},
   "outputs": [
    {
     "name": "stdout",
     "output_type": "stream",
     "text": [
      "4\n",
      "5\n",
      "6\n",
      "total = 55\n",
      "mean = 5.5\n"
     ]
    }
   ],
   "source": [
    "##연습문제4\n",
    "x = [1,2,3,4,5,6,7,8,9,10]\n",
    "total=0\n",
    "for i in x:\n",
    "    total = total+i\n",
    "    if 4<=i<7:\n",
    "        print(i)\n",
    "    \n",
    "mean = total/len(x)\n",
    "print('total =', total)\n",
    "print('mean =', mean)    "
   ]
  },
  {
   "cell_type": "code",
   "execution_count": 18,
   "id": "auburn-compound",
   "metadata": {},
   "outputs": [
    {
     "name": "stdout",
     "output_type": "stream",
     "text": [
      "1\n",
      "2\n"
     ]
    }
   ],
   "source": [
    "##연습문제5\n",
    "y = [1, 1.0 , 1.6, 2, 5.1]\n",
    "for i in y:\n",
    "    if type(i)==float: continue\n",
    "    if type(i)==int:\n",
    "        print(i)"
   ]
  },
  {
   "cell_type": "code",
   "execution_count": 26,
   "id": "endless-syndrome",
   "metadata": {},
   "outputs": [
    {
     "name": "stdout",
     "output_type": "stream",
     "text": [
      "1.0\n",
      "1\n",
      "1\n",
      "2.0\n",
      "5\n"
     ]
    }
   ],
   "source": [
    "##연습문제5\n",
    "y = [1, 1.0 , 1.6, 2, 5.1]\n",
    "for i in y:\n",
    "    if type(i)==int:\n",
    "        i = float(i)\n",
    "        print(i)\n",
    "    elif type(i)==float:\n",
    "        i = int(i)\n",
    "        print(i)\n"
   ]
  },
  {
   "cell_type": "code",
   "execution_count": 27,
   "id": "spoken-apparel",
   "metadata": {},
   "outputs": [
    {
     "name": "stdout",
     "output_type": "stream",
     "text": [
      "7.699999999999999\n"
     ]
    }
   ],
   "source": [
    "##연습문제5\n",
    "y = [1, 1.0 , 1.6, 2, 5.1]\n",
    "a=0\n",
    "for i in y:\n",
    "    if type(i)==int: continue\n",
    "    if type(i)==float:\n",
    "        a = a+i\n",
    "print(a)"
   ]
  },
  {
   "cell_type": "code",
   "execution_count": null,
   "id": "becoming-receiver",
   "metadata": {},
   "outputs": [],
   "source": []
  }
 ],
 "metadata": {
  "kernelspec": {
   "display_name": "Python 3",
   "language": "python",
   "name": "python3"
  },
  "language_info": {
   "codemirror_mode": {
    "name": "ipython",
    "version": 3
   },
   "file_extension": ".py",
   "mimetype": "text/x-python",
   "name": "python",
   "nbconvert_exporter": "python",
   "pygments_lexer": "ipython3",
   "version": "3.9.2"
  }
 },
 "nbformat": 4,
 "nbformat_minor": 5
}
